{
 "cells": [
  {
   "cell_type": "markdown",
   "id": "a5782915",
   "metadata": {},
   "source": [
    "# 🌟 NumPy -- Numerical Python 🌟  \n",
    "  \n",
    "<div>\n",
    "<img src=\"https://i.postimg.cc/bvxpFgty/data.png\" width=\"700\"/>\n",
    "</div>\n",
    "\n",
    "One of the most important foundational package for numerical computing in Python.\n",
    "\n",
    "* ndarray: multi-dimensional array\n",
    "* mathematical functions\n",
    "* linear algebra, random number generation, and so on  \n",
    "\n",
    "NumPy based algorithes are generally 10 to 100 faster (or more) than pure Python algorithms"
   ]
  },
  {
   "cell_type": "markdown",
   "id": "254228f0",
   "metadata": {},
   "source": [
    "### Differences between lists and NumPy Arrays\n",
    "* An array's size is immutable. You cannot append, insert or remove elements, like you can with a list.\n",
    "* All of an array's elements must be of the same data type.\n",
    "* A NumPy array behaves in a Pythonic fashion. You can len(my_array) just like you would assume.\n",
    "\n",
    ">💥Numpy arrays are memory efficient."
   ]
  },
  {
   "cell_type": "code",
   "execution_count": 1,
   "id": "a9cab0b8",
   "metadata": {
    "ExecuteTime": {
     "end_time": "2022-07-28T11:42:39.394227Z",
     "start_time": "2022-07-28T11:42:39.392196Z"
    }
   },
   "outputs": [],
   "source": [
    "import warnings \n",
    "warnings.filterwarnings('ignore')"
   ]
  },
  {
   "cell_type": "code",
   "execution_count": 2,
   "id": "42d2ca3e",
   "metadata": {
    "ExecuteTime": {
     "end_time": "2022-07-28T11:42:39.953188Z",
     "start_time": "2022-07-28T11:42:39.398823Z"
    }
   },
   "outputs": [],
   "source": [
    "import numpy as np\n",
    "import matplotlib.pyplot as plt\n",
    "%matplotlib inline"
   ]
  },
  {
   "cell_type": "code",
   "execution_count": 3,
   "id": "803c6f73",
   "metadata": {
    "ExecuteTime": {
     "end_time": "2022-07-28T11:42:55.513168Z",
     "start_time": "2022-07-28T11:42:39.954520Z"
    }
   },
   "outputs": [
    {
     "name": "stdout",
     "output_type": "stream",
     "text": [
      "19.2 ms ± 170 µs per loop (mean ± std. dev. of 7 runs, 100 loops each)\n"
     ]
    }
   ],
   "source": [
    "L = range(100000)\n",
    "%timeit [i**2 for i in L]"
   ]
  },
  {
   "cell_type": "code",
   "execution_count": 4,
   "id": "ace6e8bb",
   "metadata": {
    "ExecuteTime": {
     "end_time": "2022-07-28T11:42:58.444592Z",
     "start_time": "2022-07-28T11:42:55.514293Z"
    }
   },
   "outputs": [
    {
     "name": "stdout",
     "output_type": "stream",
     "text": [
      "36 µs ± 267 ns per loop (mean ± std. dev. of 7 runs, 10,000 loops each)\n"
     ]
    }
   ],
   "source": [
    "a = np.arange(100000)\n",
    "%timeit a**2  # This operation is called Broadcasting\n"
   ]
  },
  {
   "cell_type": "code",
   "execution_count": 5,
   "id": "6cd4f641",
   "metadata": {
    "ExecuteTime": {
     "end_time": "2022-07-28T11:43:10.904140Z",
     "start_time": "2022-07-28T11:42:58.446088Z"
    }
   },
   "outputs": [
    {
     "name": "stdout",
     "output_type": "stream",
     "text": [
      "15.4 ms ± 220 µs per loop (mean ± std. dev. of 7 runs, 100 loops each)\n"
     ]
    }
   ],
   "source": [
    "a = np.arange(100000)\n",
    "%timeit [element**2 for element in a]"
   ]
  },
  {
   "cell_type": "markdown",
   "id": "c4fd8b04",
   "metadata": {},
   "source": [
    "### Numpy Array (ndarry) can have multi-dimension\n",
    "![numpy_array](https://i.postimg.cc/sgSrvmKY/numpyarray2.png)"
   ]
  },
  {
   "cell_type": "markdown",
   "id": "9421904a",
   "metadata": {},
   "source": [
    "## Creating N-dimensional NumPy arrays\n",
    "There are a number of ways to initialize new numpy arrays, for example from\n",
    "\n",
    "* a Python list or tuples\n",
    "* using functions that are dedicated to generating numpy arrays, such as `numpy.arange`, `numpy.linspace`, etc.\n",
    "* reading data from files"
   ]
  },
  {
   "cell_type": "markdown",
   "id": "618f3587",
   "metadata": {},
   "source": [
    "From Lists:  \n",
    "To create new vector and matrix arrays using Python lists we can use the `numpy.array()` function."
   ]
  },
  {
   "cell_type": "code",
   "execution_count": 6,
   "id": "cd450634",
   "metadata": {
    "ExecuteTime": {
     "end_time": "2022-07-28T11:43:10.909727Z",
     "start_time": "2022-07-28T11:43:10.905380Z"
    }
   },
   "outputs": [
    {
     "data": {
      "text/plain": [
       "(array([1, 2, 3, 4], dtype=int32), dtype('int32'))"
      ]
     },
     "execution_count": 6,
     "metadata": {},
     "output_type": "execute_result"
    }
   ],
   "source": [
    "lst = [1,2,3,4.0]\n",
    "vector = np.array(lst, dtype=np.int32)\n",
    "vector , vector.dtype"
   ]
  },
  {
   "cell_type": "markdown",
   "id": "d9337335",
   "metadata": {},
   "source": [
    "* A 2-d array out of a nested list."
   ]
  },
  {
   "cell_type": "code",
   "execution_count": 7,
   "id": "1bfa0a43",
   "metadata": {
    "ExecuteTime": {
     "end_time": "2022-07-28T11:43:10.920283Z",
     "start_time": "2022-07-28T11:43:10.911052Z"
    }
   },
   "outputs": [
    {
     "data": {
      "text/plain": [
       "(array([[ 1,  2,  3,  4,  5],\n",
       "        [ 6,  7,  8,  9, 10]]),\n",
       " (2, 5))"
      ]
     },
     "execution_count": 7,
     "metadata": {},
     "output_type": "execute_result"
    }
   ],
   "source": [
    "vector_2D = np.array([[1,2,3,4,5],[6,7,8,9,10]])\n",
    "vector_2D, vector_2D.shape"
   ]
  },
  {
   "cell_type": "markdown",
   "id": "f0bbafcc",
   "metadata": {},
   "source": [
    "NumPy provides many functions for generating arrays. Some of them are:\n",
    "\n",
    "* **numpy.arange()** - similar to `range()`function in python. we can create an array within a floating point step-wise range\n",
    "* **numpy.linspace()** - create an evenly spaced sequence in a specified interval\n",
    "* **numpy.random()** - create an array with random values\n",
    "* **numpy.zeros()** - create an array of zeros\n",
    "* **numpy.ones()** - create an array of ones\n",
    "* **numpy.eye()** - create Identity Matrix "
   ]
  },
  {
   "cell_type": "code",
   "execution_count": 8,
   "id": "4949397a",
   "metadata": {
    "ExecuteTime": {
     "end_time": "2022-07-28T11:43:10.926511Z",
     "start_time": "2022-07-28T11:43:10.921837Z"
    }
   },
   "outputs": [
    {
     "name": "stdout",
     "output_type": "stream",
     "text": [
      "Array of ones:\n",
      "[[1. 1. 1. 1.]\n",
      " [1. 1. 1. 1.]\n",
      " [1. 1. 1. 1.]]\n",
      "\n",
      "Array of zeros:\n",
      "[[0 0 0]\n",
      " [0 0 0]]\n",
      "\n",
      "Array with random values:\n",
      "[[0.26900604 0.35826945]\n",
      " [0.08222308 0.19994791]]\n",
      "\n",
      "Array of evenly-spaced values:\n",
      "[10.  10.5 11.  11.5 12.  12.5 13.  13.5 14.  14.5]\n",
      "\n",
      "Array of evenly-spaced values:\n",
      "[0.   0.25 0.5  0.75 1.   1.25 1.5  1.75 2.  ]\n",
      "\n",
      "Identity matrix:\n",
      "[[1. 0. 0. 0.]\n",
      " [0. 1. 0. 0.]\n",
      " [0. 0. 1. 0.]\n",
      " [0. 0. 0. 1.]]\n"
     ]
    }
   ],
   "source": [
    "print(\"Array of ones:\")\n",
    "print(np.ones((3, 4)))\n",
    "\n",
    "print(\"\\nArray of zeros:\")\n",
    "print(np.zeros((2, 3), dtype=np.int16))\n",
    "\n",
    "print(\"\\nArray with random values:\")\n",
    "print(np.random.random((2, 2)))\n",
    "\n",
    "print(\"\\nArray of evenly-spaced values:\")\n",
    "print(np.arange(10, 15, 0.5))\n",
    "\n",
    "print(\"\\nArray of evenly-spaced values:\")\n",
    "print(np.linspace(0, 2, 9))\n",
    "\n",
    "print(\"\\nIdentity matrix:\")\n",
    "print(np.eye(4))"
   ]
  },
  {
   "cell_type": "markdown",
   "id": "4163b15b",
   "metadata": {},
   "source": [
    "### Random Number Generation\n",
    "NumPy offers the random module to work with random numbers."
   ]
  },
  {
   "cell_type": "code",
   "execution_count": 9,
   "id": "6921fb49",
   "metadata": {
    "ExecuteTime": {
     "end_time": "2022-07-28T11:43:10.929607Z",
     "start_time": "2022-07-28T11:43:10.927482Z"
    }
   },
   "outputs": [],
   "source": [
    "from numpy import random"
   ]
  },
  {
   "cell_type": "markdown",
   "id": "e28cd5a3",
   "metadata": {},
   "source": [
    "* **rand()**\tRandom values in a given shape.\n",
    "* **randn()**\tReturn a sample (or samples) from the “standard normal” distribution.\n",
    "* **randint()**\tReturn random integers from low (inclusive) to high (exclusive).\n",
    "* **random()**\tReturn random floats in the half-open interval [0.0, 1.0).\n",
    "* **seed()**  init random gen"
   ]
  },
  {
   "cell_type": "code",
   "execution_count": 10,
   "id": "ae0131fe",
   "metadata": {
    "ExecuteTime": {
     "end_time": "2022-07-28T11:43:10.934511Z",
     "start_time": "2022-07-28T11:43:10.930972Z"
    },
    "scrolled": true
   },
   "outputs": [
    {
     "data": {
      "text/plain": [
       "array([0.4359949 , 0.02592623, 0.54966248, ..., 0.42048616, 0.30789564,\n",
       "       0.87024385])"
      ]
     },
     "execution_count": 10,
     "metadata": {},
     "output_type": "execute_result"
    }
   ],
   "source": [
    "np.random.seed(2)\n",
    "\n",
    "arr = np.random.rand(100000)\n",
    "arr"
   ]
  },
  {
   "cell_type": "code",
   "execution_count": 11,
   "id": "2e6f2764",
   "metadata": {
    "ExecuteTime": {
     "end_time": "2022-07-28T11:43:11.033585Z",
     "start_time": "2022-07-28T11:43:10.936181Z"
    }
   },
   "outputs": [
    {
     "data": {
      "image/png": "[encoded data removed]",
      "text/plain": [
       "<Figure size 432x288 with 1 Axes>"
      ]
     },
     "metadata": {
      "needs_background": "light"
     },
     "output_type": "display_data"
    }
   ],
   "source": [
    "plt.hist(arr)\n",
    "plt.show()"
   ]
  },
  {
   "cell_type": "code",
   "execution_count": 12,
   "id": "d2e19092",
   "metadata": {
    "ExecuteTime": {
     "end_time": "2022-07-28T11:43:11.039367Z",
     "start_time": "2022-07-28T11:43:11.034610Z"
    }
   },
   "outputs": [
    {
     "data": {
      "text/plain": [
       "array([-0.0062144 ,  0.20880003, -1.40890347, ..., -0.68039935,\n",
       "        0.46429007,  1.41029068])"
      ]
     },
     "execution_count": 12,
     "metadata": {},
     "output_type": "execute_result"
    }
   ],
   "source": [
    "arrn = np.random.randn(100000)\n",
    "arrn"
   ]
  },
  {
   "cell_type": "code",
   "execution_count": 13,
   "id": "1c6fa056",
   "metadata": {
    "ExecuteTime": {
     "end_time": "2022-07-28T11:43:11.049563Z",
     "start_time": "2022-07-28T11:43:11.041405Z"
    }
   },
   "outputs": [
    {
     "data": {
      "text/plain": [
       "array([-0.26887464, -0.51824729,  1.60668658, -0.64222882, -1.32913541,\n",
       "       -1.41198509, -0.67048064,  1.14494741,  0.24192189,  0.12287811])"
      ]
     },
     "execution_count": 13,
     "metadata": {},
     "output_type": "execute_result"
    }
   ],
   "source": [
    "np.random.randn(10)"
   ]
  },
  {
   "cell_type": "code",
   "execution_count": 14,
   "id": "c28d05d8",
   "metadata": {
    "ExecuteTime": {
     "end_time": "2022-07-28T11:43:11.222148Z",
     "start_time": "2022-07-28T11:43:11.050742Z"
    },
    "scrolled": true
   },
   "outputs": [
    {
     "data": {
      "image/png": "[encoded data removed]",
      "text/plain": [
       "<Figure size 432x288 with 1 Axes>"
      ]
     },
     "metadata": {
      "needs_background": "light"
     },
     "output_type": "display_data"
    }
   ],
   "source": [
    "plt.hist(arrn, bins=100)\n",
    "plt.show()"
   ]
  },
  {
   "cell_type": "code",
   "execution_count": 15,
   "id": "95f74623",
   "metadata": {
    "ExecuteTime": {
     "end_time": "2022-07-28T11:43:11.226355Z",
     "start_time": "2022-07-28T11:43:11.223305Z"
    }
   },
   "outputs": [
    {
     "data": {
      "text/plain": [
       "array([[-0.032099  ,  0.56125265,  2.79459983, -1.7995608 ],\n",
       "       [ 2.38440678,  0.52372978,  0.97205958,  0.79345247]])"
      ]
     },
     "execution_count": 15,
     "metadata": {},
     "output_type": "execute_result"
    }
   ],
   "source": [
    "# for mean 3 and standard deviation 2.5\n",
    "3 + 2.5 * np.random.randn(2, 4)"
   ]
  },
  {
   "cell_type": "markdown",
   "id": "4438f0dd",
   "metadata": {},
   "source": [
    "### NumPy Array Attributes\n",
    "The most important attributes of an ndarray object are:\n",
    "\n",
    "<!-- * **ndarray.ndim** - the number of axes (dimensions) of the array. -->\n",
    "* **ndarray.shape** - the dimensions of the array. For a matrix with n rows and m columns, shape will be (n,m).\n",
    "* **ndarray.size** - the total number of elements of the array.\n",
    "* **ndarray.dtype** - numpy.int32, numpy.int16, and numpy.float64 are some examples."
   ]
  },
  {
   "cell_type": "code",
   "execution_count": 16,
   "id": "dd0251e7",
   "metadata": {
    "ExecuteTime": {
     "end_time": "2022-07-28T11:43:11.230619Z",
     "start_time": "2022-07-28T11:43:11.227323Z"
    }
   },
   "outputs": [
    {
     "data": {
      "text/plain": [
       "array([[1, 2, 3],\n",
       "       [4, 5, 6],\n",
       "       [7, 8, 9]])"
      ]
     },
     "execution_count": 16,
     "metadata": {},
     "output_type": "execute_result"
    }
   ],
   "source": [
    "arr = np.array([[1,2,3],[4,5,6],[7,8,9]])\n",
    "arr"
   ]
  },
  {
   "cell_type": "code",
   "execution_count": 17,
   "id": "255dff41",
   "metadata": {
    "ExecuteTime": {
     "end_time": "2022-07-28T11:43:11.234237Z",
     "start_time": "2022-07-28T11:43:11.231552Z"
    }
   },
   "outputs": [
    {
     "name": "stdout",
     "output_type": "stream",
     "text": [
      "numpy array :\n",
      " [[1 2 3]\n",
      " [4 5 6]\n",
      " [7 8 9]]\n",
      "\n",
      "===> shape of array: (3, 3)\n",
      "===> size of array:9\n",
      "===> data type of the elements of array:int64\n"
     ]
    }
   ],
   "source": [
    "# ndim = arr.ndim\n",
    "shape = arr.shape\n",
    "size = arr.size\n",
    "dtype = arr.dtype\n",
    "print(f'numpy array :\\n {arr}\\n\\n===> shape of array: {shape}\\n===> size of array:{size}\\n===> data type of the elements of array:{dtype}')"
   ]
  },
  {
   "cell_type": "markdown",
   "id": "c33300e0",
   "metadata": {},
   "source": [
    "### NumPy Array Methods\n",
    "\n",
    "Let's discuss some useful methods of numpy array:\n",
    "* **reshape()** : Returns an array containing the same data with a new shape.  \n",
    "These are useful methods for finding max, min or mean values. Or to find their index locations using argmin or argmax:\n",
    "  * **min()**\n",
    "  * **max()**\n",
    "  * **argmax()**\n",
    "  * **argmin()**\n",
    "  * **mean()**"
   ]
  },
  {
   "cell_type": "code",
   "execution_count": 18,
   "id": "b0b8aa66",
   "metadata": {
    "ExecuteTime": {
     "end_time": "2022-07-28T11:43:11.238018Z",
     "start_time": "2022-07-28T11:43:11.235185Z"
    },
    "scrolled": true
   },
   "outputs": [
    {
     "name": "stdout",
     "output_type": "stream",
     "text": [
      "new array after reshaping:\n",
      "[[ 1  2  3]\n",
      " [ 4  5  6]\n",
      " [ 7  8  9]\n",
      " [10 11 12]]\n",
      "\n",
      "===>maximum value in the array: 12\n",
      "===>minimum value in the array: 1\n",
      "===>mean value of the array: 6.5\n",
      "===>location of the maximum value in the array: 11\n",
      "===>location of minimum value in the array: 0\n"
     ]
    }
   ],
   "source": [
    "arr = np.array([1, 2, 3, 4, 5, 6, 7, 8, 9, 10, 11, 12])\n",
    "newarr = arr.reshape(4, 3)\n",
    "print(f\"new array after reshaping:\\n{newarr}\")\n",
    "print(f\"\\n===>maximum value in the array: {newarr.max()}\\n===>minimum value in the array: {newarr.min()}\\n===>mean value of the array: {newarr.mean()}\\n===>location of the maximum value in the array: {newarr.argmax()}\\n===>location of minimum value in the array: {newarr.argmin()}\")"
   ]
  },
  {
   "cell_type": "markdown",
   "id": "b51e131e",
   "metadata": {},
   "source": [
    "### more on reshape method in numpy  \n",
    "numpy.reshape(a, newshape)  \n",
    "* **a:** arraylike Array to be reshaped\n",
    "* **newshape:** int or tuples of ints Should be compatible with the original shape. If an integer, then the result will be a 1-D array of that length. One shape dimension can be -1. In this case, the value is inferred from the length of the array and remaining dimensions.\n",
    "\n",
    "![reshape](https://i.postimg.cc/g0dfrWxp/np-reshape.png)"
   ]
  },
  {
   "cell_type": "code",
   "execution_count": 19,
   "id": "b2817867",
   "metadata": {
    "ExecuteTime": {
     "end_time": "2022-07-28T11:43:11.241913Z",
     "start_time": "2022-07-28T11:43:11.238879Z"
    }
   },
   "outputs": [
    {
     "data": {
      "text/plain": [
       "array([ 0,  1,  2,  3,  4,  5,  6,  7,  8,  9, 10, 11, 12, 13, 14, 15, 16,\n",
       "       17, 18, 19, 20, 21, 22, 23, 24, 25, 26, 27, 28, 29, 30, 31])"
      ]
     },
     "execution_count": 19,
     "metadata": {},
     "output_type": "execute_result"
    }
   ],
   "source": [
    "num_array = np.arange(32)\n",
    "num_array"
   ]
  },
  {
   "cell_type": "code",
   "execution_count": 20,
   "id": "2a8f63d0",
   "metadata": {
    "ExecuteTime": {
     "end_time": "2022-07-28T11:43:11.246123Z",
     "start_time": "2022-07-28T11:43:11.242877Z"
    }
   },
   "outputs": [
    {
     "data": {
      "text/plain": [
       "array([[ 0,  1],\n",
       "       [ 2,  3],\n",
       "       [ 4,  5],\n",
       "       [ 6,  7],\n",
       "       [ 8,  9],\n",
       "       [10, 11],\n",
       "       [12, 13],\n",
       "       [14, 15],\n",
       "       [16, 17],\n",
       "       [18, 19],\n",
       "       [20, 21],\n",
       "       [22, 23],\n",
       "       [24, 25],\n",
       "       [26, 27],\n",
       "       [28, 29],\n",
       "       [30, 31]])"
      ]
     },
     "execution_count": 20,
     "metadata": {},
     "output_type": "execute_result"
    }
   ],
   "source": [
    "np.reshape(num_array, (16,2))"
   ]
  },
  {
   "cell_type": "code",
   "execution_count": 21,
   "id": "a9579827",
   "metadata": {
    "ExecuteTime": {
     "end_time": "2022-07-28T11:43:11.250216Z",
     "start_time": "2022-07-28T11:43:11.247163Z"
    }
   },
   "outputs": [
    {
     "data": {
      "text/plain": [
       "array([[ 0,  1,  2,  3],\n",
       "       [ 4,  5,  6,  7],\n",
       "       [ 8,  9, 10, 11],\n",
       "       [12, 13, 14, 15],\n",
       "       [16, 17, 18, 19],\n",
       "       [20, 21, 22, 23],\n",
       "       [24, 25, 26, 27],\n",
       "       [28, 29, 30, 31]])"
      ]
     },
     "execution_count": 21,
     "metadata": {},
     "output_type": "execute_result"
    }
   ],
   "source": [
    "np.reshape(num_array, (8,-1))"
   ]
  },
  {
   "cell_type": "markdown",
   "id": "f073707e",
   "metadata": {},
   "source": [
    "## Accessing Arrays - Slicing and Indexing\n",
    "\n",
    "* Numpy supports simple indexing (as in Python)\n",
    "* Additionally, fancy indexing methods\n",
    "  * Boolean indexing\n",
    "  * List indexing\n",
    "  \n",
    "### Simple Indexing\n",
    "As you expect it from Python:\n",
    "\n",
    "* [idx]\n",
    "* [begin:end:stepsize]\n",
    "  * Default values\n",
    "   * begin = 0\n",
    "   * end = last element\n",
    "   * stepsize = 1\n",
    "   * colons are optional\n",
    "* Negativ indizes are counted from the last element.\n",
    "  *-i is the short form of n - i with n begin the number of elements in the array"
   ]
  },
  {
   "cell_type": "code",
   "execution_count": 22,
   "id": "dbe9f70f",
   "metadata": {
    "ExecuteTime": {
     "end_time": "2022-07-28T11:43:11.253855Z",
     "start_time": "2022-07-28T11:43:11.251126Z"
    }
   },
   "outputs": [
    {
     "name": "stdout",
     "output_type": "stream",
     "text": [
      "arr[3]: 4\n",
      "arr[2:5] : [ 1  4 64]\n",
      "arr[:2]: [0 9]\n",
      "arr[-2:]: [ 4 64]\n"
     ]
    }
   ],
   "source": [
    "arr = np.array([0, 9, 1, 4, 64])\n",
    "print(f\"arr[3]: {arr[3]}\")\n",
    "print(f\"arr[2:5] : {arr[2:5]}\")\n",
    "print(f\"arr[:2]: {arr[:2]}\")\n",
    "print(f\"arr[-2:]: {arr[-2:]}\")"
   ]
  },
  {
   "cell_type": "markdown",
   "id": "fa54fe52",
   "metadata": {},
   "source": [
    "### Indexing and Slicing with multiple dimensions"
   ]
  },
  {
   "cell_type": "code",
   "execution_count": 23,
   "id": "42962df4",
   "metadata": {
    "ExecuteTime": {
     "end_time": "2022-07-28T11:43:11.257826Z",
     "start_time": "2022-07-28T11:43:11.254812Z"
    }
   },
   "outputs": [
    {
     "data": {
      "text/plain": [
       "array([[ 0,  1,  2,  3,  4,  5,  6,  7],\n",
       "       [ 8,  9, 10, 11, 12, 13, 14, 15],\n",
       "       [16, 17, 18, 19, 20, 21, 22, 23],\n",
       "       [24, 25, 26, 27, 28, 29, 30, 31],\n",
       "       [32, 33, 34, 35, 36, 37, 38, 39]])"
      ]
     },
     "execution_count": 23,
     "metadata": {},
     "output_type": "execute_result"
    }
   ],
   "source": [
    "arr_2d = np.arange(0, 40, 1).reshape(5, 8)\n",
    "arr_2d"
   ]
  },
  {
   "cell_type": "markdown",
   "id": "66ddcdb4",
   "metadata": {},
   "source": [
    "get the first row"
   ]
  },
  {
   "cell_type": "code",
   "execution_count": 24,
   "id": "0cb04ef1",
   "metadata": {
    "ExecuteTime": {
     "end_time": "2022-07-28T11:43:11.261560Z",
     "start_time": "2022-07-28T11:43:11.258700Z"
    }
   },
   "outputs": [
    {
     "data": {
      "text/plain": [
       "array([0, 1, 2, 3, 4, 5, 6, 7])"
      ]
     },
     "execution_count": 24,
     "metadata": {},
     "output_type": "execute_result"
    }
   ],
   "source": [
    "arr_2d[0]"
   ]
  },
  {
   "cell_type": "code",
   "execution_count": 25,
   "id": "979b34bc",
   "metadata": {
    "ExecuteTime": {
     "end_time": "2022-07-28T11:43:11.265898Z",
     "start_time": "2022-07-28T11:43:11.262913Z"
    }
   },
   "outputs": [
    {
     "data": {
      "text/plain": [
       "21"
      ]
     },
     "execution_count": 25,
     "metadata": {},
     "output_type": "execute_result"
    }
   ],
   "source": [
    "arr_2d[2, -3]"
   ]
  },
  {
   "cell_type": "markdown",
   "id": "9bf82143",
   "metadata": {},
   "source": [
    "![indexing](https://i.postimg.cc/qqtFWB5s/indexing1.png)"
   ]
  },
  {
   "cell_type": "code",
   "execution_count": 26,
   "id": "3b570217",
   "metadata": {
    "ExecuteTime": {
     "end_time": "2022-07-28T11:43:11.269701Z",
     "start_time": "2022-07-28T11:43:11.266865Z"
    }
   },
   "outputs": [
    {
     "data": {
      "text/plain": [
       "array([[ 0,  1,  2,  3,  4],\n",
       "       [ 8,  9, 10, 11, 12],\n",
       "       [16, 17, 18, 19, 20]])"
      ]
     },
     "execution_count": 26,
     "metadata": {},
     "output_type": "execute_result"
    }
   ],
   "source": [
    "arr_2d[:3, :5]"
   ]
  },
  {
   "cell_type": "markdown",
   "id": "307b2b27",
   "metadata": {},
   "source": [
    "![indexing](https://i.postimg.cc/MGdrTjk0/indexing2.png)"
   ]
  },
  {
   "cell_type": "code",
   "execution_count": 27,
   "id": "5dfad4b0",
   "metadata": {
    "ExecuteTime": {
     "end_time": "2022-07-28T11:43:11.275366Z",
     "start_time": "2022-07-28T11:43:11.270711Z"
    }
   },
   "outputs": [
    {
     "data": {
      "text/plain": [
       "array([[21, 22, 23],\n",
       "       [29, 30, 31],\n",
       "       [37, 38, 39]])"
      ]
     },
     "execution_count": 27,
     "metadata": {},
     "output_type": "execute_result"
    }
   ],
   "source": [
    "arr_2d[-3:, -3:]"
   ]
  },
  {
   "cell_type": "markdown",
   "id": "f611fa0d",
   "metadata": {},
   "source": [
    "![indexing](https://i.postimg.cc/L4YRcmfQ/indexing3.png)"
   ]
  },
  {
   "cell_type": "code",
   "execution_count": 28,
   "id": "2324144a",
   "metadata": {
    "ExecuteTime": {
     "end_time": "2022-07-28T11:43:11.280498Z",
     "start_time": "2022-07-28T11:43:11.276744Z"
    }
   },
   "outputs": [
    {
     "data": {
      "text/plain": [
       "array([ 3, 11, 19, 27, 35])"
      ]
     },
     "execution_count": 28,
     "metadata": {},
     "output_type": "execute_result"
    }
   ],
   "source": [
    "arr_2d[:, 3]"
   ]
  },
  {
   "cell_type": "markdown",
   "id": "53aa61b8",
   "metadata": {},
   "source": [
    "![indexing](https://i.postimg.cc/mrpfnnrG/indexing4.png)"
   ]
  },
  {
   "cell_type": "code",
   "execution_count": 29,
   "id": "da6b2976",
   "metadata": {
    "ExecuteTime": {
     "end_time": "2022-07-28T11:43:11.301751Z",
     "start_time": "2022-07-28T11:43:11.283772Z"
    }
   },
   "outputs": [
    {
     "data": {
      "text/plain": [
       "array([11, 12, 13])"
      ]
     },
     "execution_count": 29,
     "metadata": {},
     "output_type": "execute_result"
    }
   ],
   "source": [
    "arr_2d[1, 3:6]"
   ]
  },
  {
   "cell_type": "markdown",
   "id": "de77fef3",
   "metadata": {},
   "source": [
    "![indexing](https://i.postimg.cc/sgKtBL7Z/indexing5.png)"
   ]
  },
  {
   "cell_type": "code",
   "execution_count": 30,
   "id": "798b8dbf",
   "metadata": {
    "ExecuteTime": {
     "end_time": "2022-07-28T11:43:11.312271Z",
     "start_time": "2022-07-28T11:43:11.303093Z"
    }
   },
   "outputs": [
    {
     "data": {
      "text/plain": [
       "array([[ 8, 11, 14],\n",
       "       [24, 27, 30]])"
      ]
     },
     "execution_count": 30,
     "metadata": {},
     "output_type": "execute_result"
    }
   ],
   "source": [
    "arr_2d[1::2, ::3]"
   ]
  },
  {
   "cell_type": "markdown",
   "id": "5350e324",
   "metadata": {},
   "source": [
    "![indexing](https://i.postimg.cc/63hRwCDw/indexing6.png)"
   ]
  },
  {
   "cell_type": "markdown",
   "id": "7ee335b5",
   "metadata": {},
   "source": [
    ">**⛔ NOTE:**A slice does not return a copy, which means that any modifications will be reflected in the source array."
   ]
  },
  {
   "cell_type": "code",
   "execution_count": 31,
   "id": "783ca45f",
   "metadata": {
    "ExecuteTime": {
     "end_time": "2022-07-28T11:43:11.318690Z",
     "start_time": "2022-07-28T11:43:11.313415Z"
    }
   },
   "outputs": [
    {
     "data": {
      "text/plain": [
       "array([ 0,  3,  1,  4, 64])"
      ]
     },
     "execution_count": 31,
     "metadata": {},
     "output_type": "execute_result"
    }
   ],
   "source": [
    "arr = np.array([0, 3, 1, 4, 64])\n",
    "subarr = arr[2:4].copy()\n",
    "subarr[1] = 9999\n",
    "arr"
   ]
  },
  {
   "cell_type": "markdown",
   "id": "543ba019",
   "metadata": {},
   "source": [
    "###  Boolean Indexing\n",
    "**Boolean indexing** allows you to select data subsets of an array that satisfy a given condition."
   ]
  },
  {
   "cell_type": "code",
   "execution_count": 32,
   "id": "686c6c35",
   "metadata": {
    "ExecuteTime": {
     "end_time": "2022-07-28T11:43:11.322945Z",
     "start_time": "2022-07-28T11:43:11.319854Z"
    }
   },
   "outputs": [
    {
     "data": {
      "text/plain": [
       "array([[ 0,  1,  2,  3,  4,  5,  6,  7],\n",
       "       [ 8,  9, 10, 11, 12, 13, 14, 15],\n",
       "       [16, 17, 18, 19, 20, 21, 22, 23],\n",
       "       [24, 25, 26, 27, 28, 29, 30, 31],\n",
       "       [32, 33, 34, 35, 36, 37, 38, 39]])"
      ]
     },
     "execution_count": 32,
     "metadata": {},
     "output_type": "execute_result"
    }
   ],
   "source": [
    "arr_2d = np.arange(0, 40, 1).reshape(5, 8)\n",
    "arr_2d"
   ]
  },
  {
   "cell_type": "code",
   "execution_count": 33,
   "id": "378dde59",
   "metadata": {
    "ExecuteTime": {
     "end_time": "2022-07-28T11:43:11.327168Z",
     "start_time": "2022-07-28T11:43:11.325257Z"
    }
   },
   "outputs": [],
   "source": [
    "constraint = arr_2d % 3 == 0"
   ]
  },
  {
   "cell_type": "code",
   "execution_count": 34,
   "id": "2348b893",
   "metadata": {
    "ExecuteTime": {
     "end_time": "2022-07-28T11:43:11.331028Z",
     "start_time": "2022-07-28T11:43:11.328224Z"
    }
   },
   "outputs": [
    {
     "data": {
      "text/plain": [
       "array([ 0,  3,  6,  9, 12, 15, 18, 21, 24, 27, 30, 33, 36, 39])"
      ]
     },
     "execution_count": 34,
     "metadata": {},
     "output_type": "execute_result"
    }
   ],
   "source": [
    "arr_2d[constraint]"
   ]
  },
  {
   "cell_type": "markdown",
   "id": "0f84430a",
   "metadata": {},
   "source": [
    "![indexing](https://i.postimg.cc/C5BFJgCt/indexing7.png)"
   ]
  },
  {
   "cell_type": "markdown",
   "id": "1637c9b1",
   "metadata": {},
   "source": [
    "### Mathematics with arrays\n",
    "One of the great advantages of Numpy arrays is that they allow one to very easily apply mathematical operations to entire arrays effortlessly.  "
   ]
  },
  {
   "cell_type": "markdown",
   "id": "90886c80",
   "metadata": {},
   "source": [
    "To illustrate how arrays are useful, let's first consider the following problem. You have a list:"
   ]
  },
  {
   "cell_type": "markdown",
   "id": "f1cc0a33",
   "metadata": {},
   "source": [
    "### Broadcasting\n",
    "Broadcasting is a powerful mechanism that allows numpy to work with arrays of different shapes, or arrays and scalars when performing arithmetic operations."
   ]
  },
  {
   "cell_type": "code",
   "execution_count": 35,
   "id": "ed9bd153",
   "metadata": {
    "ExecuteTime": {
     "end_time": "2022-07-28T11:43:11.660622Z",
     "start_time": "2022-07-28T11:43:11.332112Z"
    },
    "scrolled": true
   },
   "outputs": [
    {
     "ename": "TypeError",
     "evalue": "can only concatenate list (not \"int\") to list",
     "output_type": "error",
     "traceback": [
      "\u001b[0;31m---------------------------------------------------------------------------\u001b[0m",
      "\u001b[0;31mTypeError\u001b[0m                                 Traceback (most recent call last)",
      "Input \u001b[0;32mIn [35]\u001b[0m, in \u001b[0;36m<cell line: 2>\u001b[0;34m()\u001b[0m\n\u001b[1;32m      1\u001b[0m mylist \u001b[38;5;241m=\u001b[39m [\u001b[38;5;241m1\u001b[39m,\u001b[38;5;241m2\u001b[39m,\u001b[38;5;241m3\u001b[39m,\u001b[38;5;241m4\u001b[39m,\u001b[38;5;241m5\u001b[39m]\n\u001b[0;32m----> 2\u001b[0m \u001b[43mmylist\u001b[49m\u001b[43m \u001b[49m\u001b[38;5;241;43m+\u001b[39;49m\u001b[43m \u001b[49m\u001b[38;5;241;43m4\u001b[39;49m\n",
      "\u001b[0;31mTypeError\u001b[0m: can only concatenate list (not \"int\") to list"
     ]
    }
   ],
   "source": [
    "mylist = [1,2,3,4,5]\n",
    "mylist + 4"
   ]
  },
  {
   "cell_type": "markdown",
   "id": "ca10d53b",
   "metadata": {},
   "source": [
    "Let's see now how this works for an array:"
   ]
  },
  {
   "cell_type": "code",
   "execution_count": null,
   "id": "fb48d027",
   "metadata": {
    "ExecuteTime": {
     "end_time": "2022-07-28T11:43:11.662215Z",
     "start_time": "2022-07-28T11:43:11.662204Z"
    }
   },
   "outputs": [],
   "source": [
    "myarray = np.array(mylist)\n",
    "myarray + 3"
   ]
  },
  {
   "cell_type": "code",
   "execution_count": null,
   "id": "9d25c9ca",
   "metadata": {
    "ExecuteTime": {
     "end_time": "2022-07-28T11:43:11.663539Z",
     "start_time": "2022-07-28T11:43:11.663525Z"
    }
   },
   "outputs": [],
   "source": [
    "a = np.array([10,20,100,200,500])\n",
    "b = np.array([3,4,5,6,7])\n",
    "print(np.subtract(a, b))\n",
    "print(a - b)"
   ]
  },
  {
   "cell_type": "code",
   "execution_count": null,
   "id": "768c4574",
   "metadata": {
    "ExecuteTime": {
     "end_time": "2022-07-28T11:43:11.664271Z",
     "start_time": "2022-07-28T11:43:11.664260Z"
    }
   },
   "outputs": [],
   "source": [
    "a = np.array([7,3,4,5,1])\n",
    "b = np.array([3,4,5,6,7])\n",
    "print(np.divide(a,b))\n",
    "print(a / b)"
   ]
  },
  {
   "cell_type": "code",
   "execution_count": null,
   "id": "1e5f3b65",
   "metadata": {
    "ExecuteTime": {
     "end_time": "2022-07-28T11:43:11.665269Z",
     "start_time": "2022-07-28T11:43:11.665257Z"
    }
   },
   "outputs": [],
   "source": [
    "a = np.array([7,3,4,5,1])\n",
    "b = np.array([3,4,5,6,7])\n",
    "print(np.multiply(a, b))\n",
    "print(a * b)"
   ]
  },
  {
   "cell_type": "markdown",
   "id": "4fd11612",
   "metadata": {},
   "source": [
    "> **❗ NOTE:** `np.multiply` does an element-wise multiplication of two matrices, whereas `np.dot` is the dot product of two matrices.\n",
    "<table><tr>\n",
    "<td> <img src=\"https://i.postimg.cc/50F4SJSr/multiplication2.png\" style=\"width: 100px;\"/> </td>\n",
    "<td> <img src=\"https://i.postimg.cc/66n67932/multiplication.png\"  style=\"width: 100px;\"/> </td>\n",
    "</tr></table>"
   ]
  },
  {
   "cell_type": "code",
   "execution_count": null,
   "id": "b9691dde",
   "metadata": {
    "ExecuteTime": {
     "end_time": "2022-07-28T11:43:11.666279Z",
     "start_time": "2022-07-28T11:43:11.666268Z"
    }
   },
   "outputs": [],
   "source": [
    "a = np.array([7,3,4,5,1])\n",
    "b = np.array([3,4,5,6,7])\n",
    "print(np.dot(a, b))"
   ]
  },
  {
   "cell_type": "code",
   "execution_count": null,
   "id": "46ecc37e",
   "metadata": {
    "ExecuteTime": {
     "end_time": "2022-07-28T11:43:11.667103Z",
     "start_time": "2022-07-28T11:43:11.667092Z"
    }
   },
   "outputs": [],
   "source": [
    "v1 = np.array([[1, 2], [1, 2]])\n",
    "v2 = np.array([[1, 2], [1, 2]])\n",
    "print(np.dot(v1, v2))"
   ]
  },
  {
   "cell_type": "code",
   "execution_count": null,
   "id": "b8c2f9f6",
   "metadata": {
    "ExecuteTime": {
     "end_time": "2022-07-28T11:43:11.667866Z",
     "start_time": "2022-07-28T11:43:11.667856Z"
    }
   },
   "outputs": [],
   "source": [
    "v1 = np.array([[1, 2], [1, 2]])\n",
    "v2 = np.array([[1, 2], [1, 2]])\n",
    "print(v1 @ v2)"
   ]
  },
  {
   "cell_type": "markdown",
   "id": "2524e9a9",
   "metadata": {},
   "source": [
    "In addition to simple arithmetic, Numpy offers a vast choice of functions that can be directly applied to arrays. Some of them are:\n",
    "* **sin()**\n",
    "* **cos()**\n",
    "* **exp()**\n",
    "* **log()**\n",
    "* **log10()**"
   ]
  },
  {
   "cell_type": "code",
   "execution_count": null,
   "id": "1c73bd51",
   "metadata": {
    "ExecuteTime": {
     "end_time": "2022-07-28T11:43:11.668552Z",
     "start_time": "2022-07-28T11:43:11.668542Z"
    }
   },
   "outputs": [],
   "source": [
    "myarray"
   ]
  },
  {
   "cell_type": "code",
   "execution_count": null,
   "id": "2808893a",
   "metadata": {
    "ExecuteTime": {
     "end_time": "2022-07-28T11:43:11.669392Z",
     "start_time": "2022-07-28T11:43:11.669381Z"
    }
   },
   "outputs": [],
   "source": [
    "np.cos(myarray)"
   ]
  },
  {
   "cell_type": "code",
   "execution_count": null,
   "id": "220c48eb",
   "metadata": {
    "ExecuteTime": {
     "end_time": "2022-07-28T11:43:11.670202Z",
     "start_time": "2022-07-28T11:43:11.670191Z"
    }
   },
   "outputs": [],
   "source": [
    "myarray[0]= 0"
   ]
  },
  {
   "cell_type": "code",
   "execution_count": null,
   "id": "a59bc1e2",
   "metadata": {
    "ExecuteTime": {
     "end_time": "2022-07-28T11:43:11.670993Z",
     "start_time": "2022-07-28T11:43:11.670982Z"
    }
   },
   "outputs": [],
   "source": [
    "np.exp(myarray)"
   ]
  },
  {
   "cell_type": "code",
   "execution_count": null,
   "id": "631c551e",
   "metadata": {
    "ExecuteTime": {
     "end_time": "2022-07-28T11:43:11.671825Z",
     "start_time": "2022-07-28T11:43:11.671813Z"
    }
   },
   "outputs": [],
   "source": [
    "np.log(myarray)"
   ]
  },
  {
   "cell_type": "markdown",
   "id": "cc574501",
   "metadata": {},
   "source": [
    "### More dimention in numpy?"
   ]
  },
  {
   "cell_type": "code",
   "execution_count": null,
   "id": "e30cbd3c",
   "metadata": {
    "ExecuteTime": {
     "end_time": "2022-07-28T11:43:11.672845Z",
     "start_time": "2022-07-28T11:43:11.672832Z"
    },
    "scrolled": true
   },
   "outputs": [],
   "source": [
    "# from PIL import Image\n",
    "from numpy import asarray\n",
    "from matplotlib import pyplot as plt\n",
    "  \n",
    "# img = Image.open('./images_numpy/pandas2.jpg', )\n",
    "img = plt.imread('https://i.postimg.cc/CMQCKsRL/pandas2.png')[:,:,0]\n",
    "plt.imshow(img, cmap='gray')\n",
    "plt.show()\n",
    "\n",
    "numpydata = asarray(img)\n",
    "print(type(numpydata))\n",
    "print(numpydata.shape)"
   ]
  },
  {
   "cell_type": "code",
   "execution_count": null,
   "id": "bafda1c9",
   "metadata": {
    "ExecuteTime": {
     "end_time": "2022-07-28T11:43:11.673784Z",
     "start_time": "2022-07-28T11:43:11.673773Z"
    }
   },
   "outputs": [],
   "source": [
    "img = img *255\n",
    "mask = np.where(img > 230, 255, 0)\n",
    "mask\n",
    "plt.imshow(mask, cmap=\"gray\")"
   ]
  },
  {
   "cell_type": "markdown",
   "id": "e755e1ea",
   "metadata": {},
   "source": [
    "## What is Pandas\n",
    "\n",
    "pandas is a Python package providing fast, ﬂexible, and expressive data structures designed to make working with “relational” or “labeled” data both easy and intuitive. It aims to be the fundamental high-level building block for doing practical, real world data analysis in Python\n",
    "![pandas](https://i.postimg.cc/J7vJ87Fs/pandas.jpg)"
   ]
  },
  {
   "cell_type": "code",
   "execution_count": null,
   "id": "cb7d9294",
   "metadata": {
    "ExecuteTime": {
     "end_time": "2022-07-28T11:43:11.674655Z",
     "start_time": "2022-07-28T11:43:11.674644Z"
    }
   },
   "outputs": [],
   "source": [
    "import pandas as pd"
   ]
  },
  {
   "cell_type": "markdown",
   "id": "c2a188c8",
   "metadata": {},
   "source": [
    "### Data Structures\n",
    "pandas introduces two new data structures to Python - **Series** and **DataFrame**, both of which are built on top of NumPy (this means it's fast)."
   ]
  },
  {
   "cell_type": "markdown",
   "id": "ad15cfe3",
   "metadata": {},
   "source": [
    "### Series\n",
    "A Series is a one-dimensional array-like object containing a sequence of values (of similar types to NumPy types) and an associated array of data labels, called its index. By default, each item will receive an index label from 0 to N, where N is the length of the Series minus one."
   ]
  },
  {
   "cell_type": "code",
   "execution_count": null,
   "id": "490625fe",
   "metadata": {
    "ExecuteTime": {
     "end_time": "2022-07-28T11:43:11.676077Z",
     "start_time": "2022-07-28T11:43:11.676065Z"
    }
   },
   "outputs": [],
   "source": [
    "s = pd.Series([3.14, 7, 'Hermes', -1789710578, 'python bootcamp!'])\n",
    "print(f\"====> Series :\\n{s}\")\n",
    "print(f\"\\n====> Series index:\\n{s.index}\")\n",
    "print(f\"\\n====> Series values:\\n{s.values}\")"
   ]
  },
  {
   "cell_type": "code",
   "execution_count": null,
   "id": "28b3ef80",
   "metadata": {
    "ExecuteTime": {
     "end_time": "2022-07-28T11:43:11.677315Z",
     "start_time": "2022-07-28T11:43:11.677302Z"
    }
   },
   "outputs": [],
   "source": [
    "s = pd.Series([3.14, 7, 'Hermes', -1789710578, 'python bootcamp!'],\n",
    "              index=['A', 'Z', 'C', 'Y', 'E'])\n",
    "print(f\"====> Series :\\n{s}\")\n",
    "print(f\"\\n====> Series index:\\n{s.index}\")\n",
    "print(f\"\\n====> Series values:\\n{s.values}\")"
   ]
  },
  {
   "cell_type": "code",
   "execution_count": null,
   "id": "1153018a",
   "metadata": {
    "ExecuteTime": {
     "end_time": "2022-07-28T11:43:11.678342Z",
     "start_time": "2022-07-28T11:43:11.678329Z"
    }
   },
   "outputs": [],
   "source": [
    "s[\"A\"]"
   ]
  },
  {
   "cell_type": "markdown",
   "id": "aca06a10",
   "metadata": {},
   "source": [
    "### Dataframes\n",
    "A DataFrame is a tablular data structure comprised of rows and columns, akin to a spreadsheet, database table, or R's data.frame object. You can also think of a DataFrame as a group of Series objects that share an index (the column names).\n",
    "\n",
    "![dataframe](https://i.postimg.cc/6pLGCrpZ/pandas-dataframe.png)"
   ]
  },
  {
   "cell_type": "markdown",
   "id": "03be4c57",
   "metadata": {},
   "source": [
    "One of the most common ways of **creating a dataframe** is from a dictionary of arrays or lists."
   ]
  },
  {
   "cell_type": "code",
   "execution_count": null,
   "id": "4bc38e1d",
   "metadata": {
    "ExecuteTime": {
     "end_time": "2022-07-28T11:43:11.679116Z",
     "start_time": "2022-07-28T11:43:11.679104Z"
    }
   },
   "outputs": [],
   "source": [
    "data = {'country': ['Belgium', 'France', 'Germany', 'Netherlands', 'United Kingdom'],\n",
    "        'population': [11.3, 64.3, 81.3, 16.9, 64.9],\n",
    "        'area': [30510, 671308, 357050, 41526, 244820],\n",
    "        'capital': ['Brussels', 'Paris', 'Berlin', 'Amsterdam', 'London']}\n",
    "countries = pd.DataFrame(data)\n",
    "countries"
   ]
  },
  {
   "cell_type": "code",
   "execution_count": null,
   "id": "8004f6d3",
   "metadata": {
    "ExecuteTime": {
     "end_time": "2022-07-28T11:43:11.680353Z",
     "start_time": "2022-07-28T11:43:11.680333Z"
    }
   },
   "outputs": [],
   "source": [
    "constraint = countries['population'] > 20"
   ]
  },
  {
   "cell_type": "code",
   "execution_count": null,
   "id": "f85b4a0a",
   "metadata": {
    "ExecuteTime": {
     "end_time": "2022-07-28T11:43:11.681454Z",
     "start_time": "2022-07-28T11:43:11.681441Z"
    }
   },
   "outputs": [],
   "source": [
    "countries[constraint]"
   ]
  },
  {
   "cell_type": "code",
   "execution_count": null,
   "id": "89cc5963",
   "metadata": {},
   "outputs": [],
   "source": []
  },
  {
   "cell_type": "markdown",
   "id": "cea12f28",
   "metadata": {},
   "source": [
    "### Reading Data\n",
    "Much more often, you'll have a dataset you want to read into a DataFrame.\n",
    "![df](https://i.postimg.cc/c439YLt3/excel.jpg)"
   ]
  },
  {
   "cell_type": "code",
   "execution_count": null,
   "id": "3ee08fc2",
   "metadata": {
    "ExecuteTime": {
     "end_time": "2022-07-28T11:43:11.682352Z",
     "start_time": "2022-07-28T11:43:11.682340Z"
    }
   },
   "outputs": [],
   "source": [
    "df = pd.read_csv(\"./dataset/BigBasket Products.csv\")\n",
    "df"
   ]
  },
  {
   "cell_type": "markdown",
   "id": "032439cf",
   "metadata": {},
   "source": [
    "### Renaming columns"
   ]
  },
  {
   "cell_type": "code",
   "execution_count": null,
   "id": "16f179a7",
   "metadata": {
    "ExecuteTime": {
     "end_time": "2022-07-28T11:43:11.683202Z",
     "start_time": "2022-07-28T11:43:11.683192Z"
    }
   },
   "outputs": [],
   "source": [
    "df.rename(columns = {\"description\":\"report\",\"sale_price\":\"price\" }, inplace=True)\n",
    "df.head()"
   ]
  },
  {
   "cell_type": "markdown",
   "id": "866d859f",
   "metadata": {},
   "source": [
    "### Dropping columns and rows"
   ]
  },
  {
   "cell_type": "code",
   "execution_count": null,
   "id": "d704ac70",
   "metadata": {
    "ExecuteTime": {
     "end_time": "2022-07-28T11:43:11.684078Z",
     "start_time": "2022-07-28T11:43:11.684067Z"
    },
    "scrolled": false
   },
   "outputs": [],
   "source": [
    "# drop the \"report\" column\n",
    "df.drop(columns = \"report\", inplace=True)\n",
    "df"
   ]
  },
  {
   "cell_type": "code",
   "execution_count": null,
   "id": "563e0dc1",
   "metadata": {
    "ExecuteTime": {
     "end_time": "2022-07-28T11:43:11.684903Z",
     "start_time": "2022-07-28T11:43:11.684893Z"
    }
   },
   "outputs": [],
   "source": [
    "# Drop row with index 3\n",
    "df_new = df.drop(3)\n",
    "df_new"
   ]
  },
  {
   "cell_type": "markdown",
   "id": "490a941f",
   "metadata": {},
   "source": [
    "The **reset_index()** method allows you reset the index back to the default 0, 1, 2 etc indexes."
   ]
  },
  {
   "cell_type": "code",
   "execution_count": null,
   "id": "2a2a2dff",
   "metadata": {
    "ExecuteTime": {
     "end_time": "2022-07-28T11:43:11.685681Z",
     "start_time": "2022-07-28T11:43:11.685669Z"
    }
   },
   "outputs": [],
   "source": [
    "df_new.reset_index(inplace=True, drop=True)\n",
    "df_new"
   ]
  },
  {
   "cell_type": "markdown",
   "id": "132647c1",
   "metadata": {},
   "source": [
    "## Indexing and selecting data\n",
    "\n",
    "Selecting a single column from the DataFrame will return a Series object."
   ]
  },
  {
   "cell_type": "code",
   "execution_count": null,
   "id": "9176a733",
   "metadata": {
    "ExecuteTime": {
     "end_time": "2022-07-28T11:43:11.686494Z",
     "start_time": "2022-07-28T11:43:11.686483Z"
    }
   },
   "outputs": [],
   "source": [
    "df[\"brand\"].head()"
   ]
  },
  {
   "cell_type": "markdown",
   "id": "394d8cbc",
   "metadata": {},
   "source": [
    "To **select multiple columns**, simply pass a list of column names to the DataFrame, the output of which will be a DataFrame."
   ]
  },
  {
   "cell_type": "code",
   "execution_count": null,
   "id": "5124794d",
   "metadata": {
    "ExecuteTime": {
     "end_time": "2022-07-28T11:43:11.687293Z",
     "start_time": "2022-07-28T11:43:11.687282Z"
    },
    "scrolled": true
   },
   "outputs": [],
   "source": [
    "df[[\"brand\", \"category\"]].head()"
   ]
  },
  {
   "cell_type": "code",
   "execution_count": null,
   "id": "07f82712",
   "metadata": {
    "ExecuteTime": {
     "end_time": "2022-07-28T11:43:11.688529Z",
     "start_time": "2022-07-28T11:43:11.688517Z"
    }
   },
   "outputs": [],
   "source": [
    "df.iloc[:, 3:6]"
   ]
  },
  {
   "cell_type": "code",
   "execution_count": null,
   "id": "cd784682",
   "metadata": {},
   "outputs": [],
   "source": []
  },
  {
   "cell_type": "markdown",
   "id": "750d72fb",
   "metadata": {},
   "source": [
    "The **set_index()** function is used to set the DataFrame index using existing columns"
   ]
  },
  {
   "cell_type": "code",
   "execution_count": null,
   "id": "252a6e37",
   "metadata": {
    "ExecuteTime": {
     "end_time": "2022-07-28T11:43:11.689377Z",
     "start_time": "2022-07-28T11:43:11.689366Z"
    },
    "scrolled": true
   },
   "outputs": [],
   "source": [
    "df.set_index(\"id\", inplace=True)\n",
    "df"
   ]
  },
  {
   "cell_type": "code",
   "execution_count": null,
   "id": "47114c7a",
   "metadata": {
    "ExecuteTime": {
     "end_time": "2022-07-28T11:43:11.690280Z",
     "start_time": "2022-07-28T11:43:11.690268Z"
    }
   },
   "outputs": [],
   "source": [
    "df.loc['no2']"
   ]
  },
  {
   "cell_type": "markdown",
   "id": "b99e2647",
   "metadata": {},
   "source": [
    "### Index-based selection\n",
    "\n",
    "When using `[]` like above, you can only select from one axis at once (rows or columns, not both). For more advanced indexing, you have some extra attributes:\n",
    "    \n",
    "* `loc`: selection by label\n",
    "* `iloc`: selection by position\n",
    "\n",
    "These methods index the different dimensions of the frame:\n",
    "\n",
    "* `df.loc[row_indexer, column_indexer]`\n",
    "* `df.iloc[row_indexer, column_indexer]`"
   ]
  },
  {
   "cell_type": "markdown",
   "id": "cc55b2c2",
   "metadata": {},
   "source": [
    "Selecting a single element:"
   ]
  },
  {
   "cell_type": "code",
   "execution_count": null,
   "id": "e63d8401",
   "metadata": {
    "ExecuteTime": {
     "end_time": "2022-07-28T11:43:11.690949Z",
     "start_time": "2022-07-28T11:43:11.690939Z"
    }
   },
   "outputs": [],
   "source": [
    "df.loc[\"no1\", 'type']"
   ]
  },
  {
   "cell_type": "markdown",
   "id": "12d30d69",
   "metadata": {},
   "source": [
    "the row or column indexer can also be a list, slice, boolean array, .."
   ]
  },
  {
   "cell_type": "code",
   "execution_count": null,
   "id": "07f01246",
   "metadata": {
    "ExecuteTime": {
     "end_time": "2022-07-28T11:43:11.691761Z",
     "start_time": "2022-07-28T11:43:11.691749Z"
    }
   },
   "outputs": [],
   "source": [
    "df.loc[\"no1\":\"no10\":2, [\"type\", \"product\"]]"
   ]
  },
  {
   "cell_type": "markdown",
   "id": "7cfd33c2",
   "metadata": {},
   "source": [
    "Selecting by position with `iloc` works similar as indexing numpy arrays."
   ]
  },
  {
   "cell_type": "code",
   "execution_count": null,
   "id": "acb382e2",
   "metadata": {
    "ExecuteTime": {
     "end_time": "2022-07-28T11:43:11.692834Z",
     "start_time": "2022-07-28T11:43:11.692822Z"
    }
   },
   "outputs": [],
   "source": [
    "df.iloc[1:4 , 2: 8:2]"
   ]
  },
  {
   "cell_type": "markdown",
   "id": "9b6db36f",
   "metadata": {},
   "source": [
    "### Boolean indexing (filtering)\n",
    "Often, you want to select rows based on a certain condition. This can be done with 'boolean indexing' "
   ]
  },
  {
   "cell_type": "code",
   "execution_count": null,
   "id": "11aaf7ba",
   "metadata": {
    "ExecuteTime": {
     "end_time": "2022-07-28T11:43:11.693743Z",
     "start_time": "2022-07-28T11:43:11.693732Z"
    }
   },
   "outputs": [],
   "source": [
    "df[\"brand\"] == \"Nivea\""
   ]
  },
  {
   "cell_type": "code",
   "execution_count": null,
   "id": "ed8afe1e",
   "metadata": {
    "ExecuteTime": {
     "end_time": "2022-07-28T11:43:11.694953Z",
     "start_time": "2022-07-28T11:43:11.694939Z"
    }
   },
   "outputs": [],
   "source": [
    "df[df[\"brand\"] == \"Nivea\"]"
   ]
  },
  {
   "cell_type": "code",
   "execution_count": null,
   "id": "6508d2b1",
   "metadata": {
    "ExecuteTime": {
     "end_time": "2022-07-28T11:43:11.695886Z",
     "start_time": "2022-07-28T11:43:11.695874Z"
    }
   },
   "outputs": [],
   "source": [
    "df.loc[df[\"brand\"] == \"Nivea\", [\"product\",\"category\"]]"
   ]
  },
  {
   "cell_type": "markdown",
   "id": "f1da52b2",
   "metadata": {},
   "source": [
    "## Inspecting a DataFrame  \n",
    "\n",
    "pandas has a variety of functions for getting basic information about your DataFrame. Some of them are:\n",
    "\n",
    "* **head()** shows the first five rows of the dataframe by default but you can specify the number of rows in the parenthesis\n",
    "* **tail()** shows the bottom five rows by default\n",
    "* **shape** tells us how many rows and columns exist in a dataframe\n",
    "* **columns** Get the column names from our DataFrame.\n",
    "* **dtypes** Check data types of each column\n",
    "* **info()** Get summary information about our index, columns, and memory usage.\n",
    "* **describe()** Get summary statistics about the columns in our data.\n",
    "* **unique() / value_counts()** Get the distinct values in a DataFrame column\n",
    "  > value_counts is similar to unique, but instead of returning an array of unique values, it returns a series with the frequency for each value"
   ]
  },
  {
   "cell_type": "code",
   "execution_count": null,
   "id": "ae6c91a4",
   "metadata": {
    "ExecuteTime": {
     "end_time": "2022-07-28T11:43:11.696795Z",
     "start_time": "2022-07-28T11:43:11.696784Z"
    }
   },
   "outputs": [],
   "source": [
    "df.head()"
   ]
  },
  {
   "cell_type": "code",
   "execution_count": null,
   "id": "59f155ab",
   "metadata": {
    "ExecuteTime": {
     "end_time": "2022-07-28T11:43:11.697853Z",
     "start_time": "2022-07-28T11:43:11.697841Z"
    }
   },
   "outputs": [],
   "source": [
    "df.tail()"
   ]
  },
  {
   "cell_type": "code",
   "execution_count": null,
   "id": "2af2e082",
   "metadata": {
    "ExecuteTime": {
     "end_time": "2022-07-28T11:43:11.698611Z",
     "start_time": "2022-07-28T11:43:11.698600Z"
    }
   },
   "outputs": [],
   "source": [
    "df.shape"
   ]
  },
  {
   "cell_type": "markdown",
   "id": "a1435fad",
   "metadata": {},
   "source": [
    "We can also **extract all the column names as a list**, by using the columns attribute."
   ]
  },
  {
   "cell_type": "code",
   "execution_count": null,
   "id": "ce1d2700",
   "metadata": {
    "ExecuteTime": {
     "end_time": "2022-07-28T11:43:11.699566Z",
     "start_time": "2022-07-28T11:43:11.699555Z"
    }
   },
   "outputs": [],
   "source": [
    "df.columns.tolist()"
   ]
  },
  {
   "cell_type": "code",
   "execution_count": null,
   "id": "0eaae8f8",
   "metadata": {
    "ExecuteTime": {
     "end_time": "2022-07-28T11:43:11.700465Z",
     "start_time": "2022-07-28T11:43:11.700454Z"
    }
   },
   "outputs": [],
   "source": [
    "df.dtypes"
   ]
  },
  {
   "cell_type": "code",
   "execution_count": null,
   "id": "7daf7add",
   "metadata": {
    "ExecuteTime": {
     "end_time": "2022-07-28T11:43:11.701302Z",
     "start_time": "2022-07-28T11:43:11.701291Z"
    }
   },
   "outputs": [],
   "source": [
    "df.info()"
   ]
  },
  {
   "cell_type": "code",
   "execution_count": null,
   "id": "b2861dc0",
   "metadata": {
    "ExecuteTime": {
     "end_time": "2022-07-28T11:43:11.702133Z",
     "start_time": "2022-07-28T11:43:11.702121Z"
    },
    "scrolled": true
   },
   "outputs": [],
   "source": [
    "df.describe()"
   ]
  },
  {
   "cell_type": "markdown",
   "id": "8f2e64f3",
   "metadata": {},
   "source": [
    "#### More on `describe()` funciton\n",
    "> By default, the describe method only includes numeric columns.  \n",
    "Specifying `include='all'` will force pandas to generate summaries for all types of features in the dataframe. Some data types like string type don’t have any mean or standard deviation. In such cases, pandas will mark them as NaN"
   ]
  },
  {
   "cell_type": "code",
   "execution_count": null,
   "id": "32a48192",
   "metadata": {
    "ExecuteTime": {
     "end_time": "2022-07-28T11:43:11.702922Z",
     "start_time": "2022-07-28T11:43:11.702911Z"
    },
    "scrolled": true
   },
   "outputs": [],
   "source": [
    "df.describe(include='all')"
   ]
  },
  {
   "cell_type": "code",
   "execution_count": null,
   "id": "199a0dbc",
   "metadata": {
    "ExecuteTime": {
     "end_time": "2022-07-28T11:43:11.703756Z",
     "start_time": "2022-07-28T11:43:11.703745Z"
    }
   },
   "outputs": [],
   "source": [
    "df[\"category\"].unique()"
   ]
  },
  {
   "cell_type": "code",
   "execution_count": null,
   "id": "3bdd0e51",
   "metadata": {
    "ExecuteTime": {
     "end_time": "2022-07-28T11:43:11.704468Z",
     "start_time": "2022-07-28T11:43:11.704457Z"
    }
   },
   "outputs": [],
   "source": [
    "df[\"category\"].nunique()"
   ]
  },
  {
   "cell_type": "code",
   "execution_count": null,
   "id": "c38d282e",
   "metadata": {
    "ExecuteTime": {
     "end_time": "2022-07-28T11:43:11.705413Z",
     "start_time": "2022-07-28T11:43:11.705398Z"
    }
   },
   "outputs": [],
   "source": [
    "df[\"category\"].value_counts()"
   ]
  },
  {
   "cell_type": "markdown",
   "id": "c6c33696",
   "metadata": {},
   "source": [
    "### Data Cleaning\n",
    " A lot of times, the CSV file you're given, you'll have a lot of missing values in the dataset, which you have to identify.\n",
    " We can detect missing values in the dataset (if any) by using the **isnull()** method together with the **sum()** method.\n",
    " \n",
    " If you do end up having missing values in your datasets, be sure to get familiar with these two functions.\n",
    "\n",
    "* **dropna()** - This function allows you to drop all(or some) of the rows that have missing values.\n",
    "* **fillna()** - This function allows you replace the rows that have missing values with the value that you pass in.\n",
    "\n",
    "![cleaning](https://i.postimg.cc/0QgrznTD/cleaning.jpg)"
   ]
  },
  {
   "cell_type": "code",
   "execution_count": null,
   "id": "570a8f68",
   "metadata": {
    "ExecuteTime": {
     "end_time": "2022-07-28T11:43:11.706275Z",
     "start_time": "2022-07-28T11:43:11.706264Z"
    }
   },
   "outputs": [],
   "source": [
    "df[df[\"rating\"].isna()]"
   ]
  },
  {
   "cell_type": "code",
   "execution_count": null,
   "id": "9b69efdd",
   "metadata": {
    "ExecuteTime": {
     "end_time": "2022-07-28T11:43:11.707324Z",
     "start_time": "2022-07-28T11:43:11.707311Z"
    }
   },
   "outputs": [],
   "source": [
    "df.isnull().sum()"
   ]
  },
  {
   "cell_type": "code",
   "execution_count": null,
   "id": "292e5824",
   "metadata": {
    "ExecuteTime": {
     "end_time": "2022-07-28T11:43:11.708265Z",
     "start_time": "2022-07-28T11:43:11.708254Z"
    }
   },
   "outputs": [],
   "source": [
    "newdf = df.dropna()\n",
    "newdf.shape"
   ]
  },
  {
   "cell_type": "markdown",
   "id": "043f906b",
   "metadata": {},
   "source": [
    "### Remove duplicate values\n",
    "You may want to check your data for duplicate entries. Using **drop_duplicates()**, we can remove all duplicate rows, or keep only the first or last row of a set of duplicates"
   ]
  },
  {
   "cell_type": "code",
   "execution_count": null,
   "id": "5bcaf54b",
   "metadata": {
    "ExecuteTime": {
     "end_time": "2022-07-28T11:43:11.709309Z",
     "start_time": "2022-07-28T11:43:11.709297Z"
    }
   },
   "outputs": [],
   "source": [
    "# check for duplicate values\n",
    "df[\"category\"].duplicated()"
   ]
  },
  {
   "cell_type": "code",
   "execution_count": null,
   "id": "30707c63",
   "metadata": {
    "ExecuteTime": {
     "end_time": "2022-07-28T11:43:11.710044Z",
     "start_time": "2022-07-28T11:43:11.710033Z"
    }
   },
   "outputs": [],
   "source": [
    "# remove duplicated values from Area subset\n",
    "df.drop_duplicates(subset =\"category\")"
   ]
  },
  {
   "cell_type": "markdown",
   "id": "21a1dfc1",
   "metadata": {},
   "source": [
    "## Descriptive statistics\n",
    "* **sum()**\n",
    "* **max()**\n",
    "* **min()**\n",
    "* **mean()**\n",
    "* **count()** - Number of non-null observations"
   ]
  },
  {
   "cell_type": "code",
   "execution_count": null,
   "id": "6ac3b1aa",
   "metadata": {
    "ExecuteTime": {
     "end_time": "2022-07-28T11:43:11.710775Z",
     "start_time": "2022-07-28T11:43:11.710763Z"
    }
   },
   "outputs": [],
   "source": [
    "df.head()"
   ]
  },
  {
   "cell_type": "code",
   "execution_count": null,
   "id": "3f9b2c62",
   "metadata": {
    "ExecuteTime": {
     "end_time": "2022-07-28T11:43:11.711372Z",
     "start_time": "2022-07-28T11:43:11.711361Z"
    }
   },
   "outputs": [],
   "source": [
    "df[\"price\"].mean()"
   ]
  },
  {
   "cell_type": "code",
   "execution_count": null,
   "id": "2e872c94",
   "metadata": {
    "ExecuteTime": {
     "end_time": "2022-07-28T11:43:11.712521Z",
     "start_time": "2022-07-28T11:43:11.712503Z"
    }
   },
   "outputs": [],
   "source": [
    "df[\"sale_price\"].max()"
   ]
  },
  {
   "cell_type": "code",
   "execution_count": null,
   "id": "17a65a18",
   "metadata": {
    "ExecuteTime": {
     "end_time": "2022-07-28T11:43:11.713362Z",
     "start_time": "2022-07-28T11:43:11.713350Z"
    }
   },
   "outputs": [],
   "source": [
    "df.loc[df[\"price\"] == 12500, :]"
   ]
  },
  {
   "cell_type": "markdown",
   "id": "5559aabe",
   "metadata": {},
   "source": [
    "### Using the axis parameter\n",
    "* axis = 0 ==> represents the function is applied column-wise\n",
    "* axis = 1 ==> means that the function is applied row-wise on the DataFrame\n",
    "![axis](https://i.postimg.cc/13fzMbPD/axes.png)"
   ]
  },
  {
   "cell_type": "code",
   "execution_count": null,
   "id": "11dd3c86",
   "metadata": {
    "ExecuteTime": {
     "end_time": "2022-07-28T11:43:11.714221Z",
     "start_time": "2022-07-28T11:43:11.714210Z"
    }
   },
   "outputs": [],
   "source": [
    "df.max(axis=0)"
   ]
  },
  {
   "cell_type": "markdown",
   "id": "3acfb6c1",
   "metadata": {},
   "source": [
    "### Combining Dataframes\n",
    "In many real-life situations, the data that we want to use comes in multiple files. We often have a need to combine these files into a single DataFrame to analyze the data."
   ]
  },
  {
   "cell_type": "markdown",
   "id": "86ab75af",
   "metadata": {},
   "source": [
    "The **concat()** function in pandas is used to append either columns or rows from one DataFrame to another.\n",
    "![concat](https://i.postimg.cc/TPb3vmKw/concat.png)"
   ]
  },
  {
   "cell_type": "code",
   "execution_count": null,
   "id": "25344837",
   "metadata": {
    "ExecuteTime": {
     "end_time": "2022-07-28T11:43:11.714895Z",
     "start_time": "2022-07-28T11:43:11.714881Z"
    }
   },
   "outputs": [],
   "source": [
    "df1 = pd.DataFrame({'num': [1,2,3], 'letter':['a', 'b', 'c']})\n",
    "df2 = pd.DataFrame({'num': [4,5,6], 'letter':['d', 'e', 'f']})\n",
    "display(df1, df2)"
   ]
  },
  {
   "cell_type": "code",
   "execution_count": null,
   "id": "c1750470",
   "metadata": {
    "ExecuteTime": {
     "end_time": "2022-07-28T11:43:11.715717Z",
     "start_time": "2022-07-28T11:43:11.715706Z"
    }
   },
   "outputs": [],
   "source": [
    "print('combining vertically..')\n",
    "df_v = pd.concat([df1, df2], axis='index')\n",
    "display(df_v)"
   ]
  },
  {
   "cell_type": "code",
   "execution_count": null,
   "id": "b448ce60",
   "metadata": {
    "ExecuteTime": {
     "end_time": "2022-07-28T11:43:11.717038Z",
     "start_time": "2022-07-28T11:43:11.717026Z"
    }
   },
   "outputs": [],
   "source": [
    "print('combining horizontally..')\n",
    "df_h = pd.concat([df1, df2], axis='columns')\n",
    "display(df_h)"
   ]
  },
  {
   "cell_type": "markdown",
   "id": "dc302a98",
   "metadata": {},
   "source": [
    "> **❗ NOTE:** A useful shortcut to concat() is append() instance method on Series and DataFrame. These methods actually predated concat. "
   ]
  },
  {
   "cell_type": "code",
   "execution_count": null,
   "id": "1a3a8ebf",
   "metadata": {
    "ExecuteTime": {
     "end_time": "2022-07-28T11:43:11.717825Z",
     "start_time": "2022-07-28T11:43:11.717813Z"
    }
   },
   "outputs": [],
   "source": [
    "df_v = df1.append(df2)\n",
    "df_v"
   ]
  },
  {
   "cell_type": "markdown",
   "id": "65d92627",
   "metadata": {},
   "source": [
    "> **❗ NOTE** :**concat()** function concatenates dataframes along rows or columns.\n",
    "**merge()** combines dataframes based on values in shared columns.\n",
    "merge() function offers more flexibility compared to concat function because it allows combinations based on a condition."
   ]
  },
  {
   "cell_type": "code",
   "execution_count": null,
   "id": "2892eeca",
   "metadata": {
    "ExecuteTime": {
     "end_time": "2022-07-28T11:43:11.718769Z",
     "start_time": "2022-07-28T11:43:11.718758Z"
    }
   },
   "outputs": [],
   "source": [
    "df1 = pd.DataFrame({'Name': ['Jane', 'John', 'Cathy', 'Sarah'],\n",
    "                         'Age': ['32', '26', '29', '23'],\n",
    "                         'Gender': ['F', 'M', 'F', 'F'],\n",
    "                         'State': ['CA', 'NY', 'OH', 'TX']})\n",
    "\n",
    "df2 = pd.DataFrame({'Name': ['Jane', 'John', 'Cathy', 'Rob'],\n",
    "                        'City': ['SF', 'NY', 'Columbus', 'Austin'],\n",
    "                         'Work Status': ['No', 'Yes', 'Yes', 'Yes']})\n",
    "display(df1, df2)"
   ]
  },
  {
   "cell_type": "code",
   "execution_count": null,
   "id": "f747da71",
   "metadata": {
    "ExecuteTime": {
     "end_time": "2022-07-28T11:43:11.719619Z",
     "start_time": "2022-07-28T11:43:11.719607Z"
    }
   },
   "outputs": [],
   "source": [
    "pd.merge(df1, df2, on='Name', how='inner')"
   ]
  },
  {
   "cell_type": "markdown",
   "id": "eb04fd4c",
   "metadata": {},
   "source": [
    "#### Left outer merge"
   ]
  },
  {
   "cell_type": "code",
   "execution_count": null,
   "id": "59c7d2ee",
   "metadata": {
    "ExecuteTime": {
     "end_time": "2022-07-28T11:43:11.720677Z",
     "start_time": "2022-07-28T11:43:11.720665Z"
    }
   },
   "outputs": [],
   "source": [
    "pd.merge(df1, df2, on='Name', how='left')"
   ]
  },
  {
   "cell_type": "markdown",
   "id": "6fd1b8ac",
   "metadata": {},
   "source": [
    "#### Right outer merge"
   ]
  },
  {
   "cell_type": "code",
   "execution_count": null,
   "id": "894f9fed",
   "metadata": {
    "ExecuteTime": {
     "end_time": "2022-07-28T11:43:11.721363Z",
     "start_time": "2022-07-28T11:43:11.721352Z"
    }
   },
   "outputs": [],
   "source": [
    "pd.merge(df1, df2, on=\"Name\", how=\"right\")"
   ]
  },
  {
   "cell_type": "markdown",
   "id": "ec4cd968",
   "metadata": {},
   "source": [
    "### apply function\n",
    "\n",
    "Pandas.apply allow the users to pass a function and apply it on every single value of the Pandas series. It uses the function along the series provided, column (axis=0) or row (axis=1)."
   ]
  },
  {
   "cell_type": "code",
   "execution_count": null,
   "id": "2b2b1ae5",
   "metadata": {
    "ExecuteTime": {
     "end_time": "2022-07-28T11:43:11.722239Z",
     "start_time": "2022-07-28T11:43:11.722227Z"
    }
   },
   "outputs": [],
   "source": [
    "df"
   ]
  },
  {
   "cell_type": "code",
   "execution_count": null,
   "id": "8f249768",
   "metadata": {
    "ExecuteTime": {
     "end_time": "2022-07-28T11:43:11.723080Z",
     "start_time": "2022-07-28T11:43:11.723069Z"
    }
   },
   "outputs": [],
   "source": [
    "func_lower = lambda x, y: x + y\n",
    "func_lower(3, 4)"
   ]
  },
  {
   "cell_type": "code",
   "execution_count": null,
   "id": "d107b5b1",
   "metadata": {
    "ExecuteTime": {
     "end_time": "2022-07-28T11:43:11.723952Z",
     "start_time": "2022-07-28T11:43:11.723941Z"
    }
   },
   "outputs": [],
   "source": [
    "func_lower = lambda x: x.lower()\n",
    "low_category = df[\"category\"].apply(func_lower)\n",
    "low_category.head()"
   ]
  },
  {
   "cell_type": "code",
   "execution_count": null,
   "id": "cca1eed8",
   "metadata": {
    "ExecuteTime": {
     "end_time": "2022-07-28T11:43:11.724802Z",
     "start_time": "2022-07-28T11:43:11.724791Z"
    }
   },
   "outputs": [],
   "source": [
    "def add_three(i):\n",
    "    return i+ 3\n",
    "df[\"new_price\"] = df['sale_price'].apply(add_three)\n",
    "df.head()"
   ]
  },
  {
   "cell_type": "code",
   "execution_count": null,
   "id": "b07fd423",
   "metadata": {
    "ExecuteTime": {
     "end_time": "2022-07-28T11:43:11.725759Z",
     "start_time": "2022-07-28T11:43:11.725748Z"
    }
   },
   "outputs": [],
   "source": [
    "df[\"new_price\"] = df['price'] + 3"
   ]
  },
  {
   "cell_type": "code",
   "execution_count": null,
   "id": "61ce3525",
   "metadata": {
    "ExecuteTime": {
     "end_time": "2022-07-28T11:43:11.726538Z",
     "start_time": "2022-07-28T11:43:11.726527Z"
    }
   },
   "outputs": [],
   "source": [
    "df['test']  = df['price'] * df['rating']"
   ]
  },
  {
   "cell_type": "code",
   "execution_count": null,
   "id": "a4353dcc",
   "metadata": {
    "ExecuteTime": {
     "end_time": "2022-07-28T11:43:11.727369Z",
     "start_time": "2022-07-28T11:43:11.727358Z"
    }
   },
   "outputs": [],
   "source": [
    "df"
   ]
  },
  {
   "cell_type": "code",
   "execution_count": null,
   "id": "68908c98",
   "metadata": {},
   "outputs": [],
   "source": []
  }
 ],
 "metadata": {
  "kernelspec": {
   "display_name": "Python 3 (ipykernel)",
   "language": "python",
   "name": "python3"
  },
  "language_info": {
   "codemirror_mode": {
    "name": "ipython",
    "version": 3
   },
   "file_extension": ".py",
   "mimetype": "text/x-python",
   "name": "python",
   "nbconvert_exporter": "python",
   "pygments_lexer": "ipython3",
   "version": "3.8.13"
  }
 },
 "nbformat": 4,
 "nbformat_minor": 5
}
